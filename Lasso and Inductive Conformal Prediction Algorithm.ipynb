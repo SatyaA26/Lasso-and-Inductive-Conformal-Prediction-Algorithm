{
 "cells": [
  {
   "cell_type": "markdown",
   "id": "458b66d2",
   "metadata": {},
   "source": [
    "# Lasso and Inductive Conformal Prediction Algorithm"
   ]
  },
  {
   "cell_type": "markdown",
   "id": "f62c21c9",
   "metadata": {},
   "source": [
    "Lasso for sklearn.datasets - load_diabetes"
   ]
  },
  {
   "cell_type": "code",
   "execution_count": 1,
   "id": "0c98ddfc",
   "metadata": {},
   "outputs": [],
   "source": [
    "from sklearn.linear_model import Lasso\n",
    "import pandas as pd\n",
    "import matplotlib.pyplot as plt\n",
    "from sklearn.datasets import load_diabetes\n",
    "\n",
    "from sklearn.model_selection import train_test_split"
   ]
  },
  {
   "cell_type": "markdown",
   "id": "e8102c0d",
   "metadata": {},
   "source": [
    "load diabetes dataset and splitting dataset using train_test_split in scikit-learn"
   ]
  },
  {
   "cell_type": "code",
   "execution_count": 2,
   "id": "a9b99a9c",
   "metadata": {},
   "outputs": [],
   "source": [
    "diabetes = load_diabetes()\n",
    "X = diabetes.data\n",
    "y = diabetes.target\n",
    "X1_train,X1_test,y1_train,y1_test = train_test_split(X,y,random_state=2610)"
   ]
  },
  {
   "cell_type": "markdown",
   "id": "1f5aa517",
   "metadata": {},
   "source": [
    "Calculating Training and Test_R2 for the Lasso model using the default parameters and different parameters"
   ]
  },
  {
   "cell_type": "code",
   "execution_count": 3,
   "id": "2b2c9353",
   "metadata": {},
   "outputs": [],
   "source": [
    "lasso = Lasso().fit(X1_train,y1_train)\n",
    "lasso00=Lasso(alpha=0.1,max_iter=100000).fit(X1_train,y1_train)\n",
    "lasso01=Lasso(alpha=0.01,max_iter=100000).fit(X1_train,y1_train)\n",
    "lasso02=Lasso(alpha=0.001,max_iter=100000).fit(X1_train,y1_train)\n",
    "lasso03=Lasso(alpha=0.0001,max_iter=100000).fit(X1_train,y1_train)"
   ]
  },
  {
   "cell_type": "markdown",
   "id": "ea58446c",
   "metadata": {},
   "source": [
    "The default parameter for Lasso is alpha=1.0 and based on this we need to select iterations which is also a parameter of lasso"
   ]
  },
  {
   "cell_type": "code",
   "execution_count": 4,
   "id": "6e8afc6e",
   "metadata": {},
   "outputs": [
    {
     "data": {
      "text/plain": [
       "0.31543808091364745"
      ]
     },
     "execution_count": 4,
     "metadata": {},
     "output_type": "execute_result"
    }
   ],
   "source": [
    "s=[]\n",
    "s.append(lasso.score(X1_test,y1_test))\n",
    "s[0]"
   ]
  },
  {
   "cell_type": "markdown",
   "id": "9ba96fa8",
   "metadata": {},
   "source": [
    "Train R^2 for alpha=0.1"
   ]
  },
  {
   "cell_type": "code",
   "execution_count": 5,
   "id": "3be37812",
   "metadata": {},
   "outputs": [
    {
     "data": {
      "text/plain": [
       "0.45447531348213155"
      ]
     },
     "execution_count": 5,
     "metadata": {},
     "output_type": "execute_result"
    }
   ],
   "source": [
    "s.append(lasso00.score(X1_test,y1_test))\n",
    "s[1]"
   ]
  },
  {
   "cell_type": "markdown",
   "id": "a9a1afab",
   "metadata": {},
   "source": [
    "Train R^2 for alpha=0.01"
   ]
  },
  {
   "cell_type": "code",
   "execution_count": 6,
   "id": "2ab92cd5",
   "metadata": {},
   "outputs": [
    {
     "data": {
      "text/plain": [
       "0.4360653072280051"
      ]
     },
     "execution_count": 6,
     "metadata": {},
     "output_type": "execute_result"
    }
   ],
   "source": [
    "s.append(lasso01.score(X1_test,y1_test))\n",
    "s[2]"
   ]
  },
  {
   "cell_type": "markdown",
   "id": "b69043d4",
   "metadata": {},
   "source": [
    "Train R^2 for alpha=0.001"
   ]
  },
  {
   "cell_type": "code",
   "execution_count": 7,
   "id": "f935667e",
   "metadata": {},
   "outputs": [
    {
     "data": {
      "text/plain": [
       "0.4345922057665438"
      ]
     },
     "execution_count": 7,
     "metadata": {},
     "output_type": "execute_result"
    }
   ],
   "source": [
    "s.append(lasso02.score(X1_test,y1_test))\n",
    "s[3]"
   ]
  },
  {
   "cell_type": "markdown",
   "id": "0f77acc3",
   "metadata": {},
   "source": [
    "Train R^2 for alpha=0.0001"
   ]
  },
  {
   "cell_type": "code",
   "execution_count": 8,
   "id": "b71dc7d1",
   "metadata": {},
   "outputs": [
    {
     "data": {
      "text/plain": [
       "0.4354764053262594"
      ]
     },
     "execution_count": 8,
     "metadata": {},
     "output_type": "execute_result"
    }
   ],
   "source": [
    "s.append(lasso03.score(X1_test,y1_test))\n",
    "s[4]"
   ]
  },
  {
   "cell_type": "markdown",
   "id": "c4972528",
   "metadata": {},
   "source": [
    "Calculating how many features does this model use for default parameter and which."
   ]
  },
  {
   "cell_type": "code",
   "execution_count": 9,
   "id": "ad7e8d89",
   "metadata": {},
   "outputs": [
    {
     "name": "stdout",
     "output_type": "stream",
     "text": [
      "Feature selected:  2\n",
      "Feature selected:  3\n",
      "Feature selected:  8\n"
     ]
    }
   ],
   "source": [
    "for i in range(X.shape[1]):\n",
    "    if lasso.coef_[i] != 0:\n",
    "        print(\"Feature selected: \",i)"
   ]
  },
  {
   "cell_type": "markdown",
   "id": "fa562766",
   "metadata": {},
   "source": [
    "Calculating how many features does this model use for different parameter values"
   ]
  },
  {
   "cell_type": "code",
   "execution_count": 10,
   "id": "c087139b",
   "metadata": {},
   "outputs": [
    {
     "name": "stdout",
     "output_type": "stream",
     "text": [
      "Number of selected feature for each alpha=[defalt_parameter,0.1,0.01,0.001,0.0001]:  [3, 6, 9, 9, 10]\n"
     ]
    }
   ],
   "source": [
    "import numpy as np\n",
    "nz=[]\n",
    "\n",
    "nz.append(np.sum(lasso.coef_ != 0))\n",
    "nz.append(np.sum(lasso00.coef_ != 0))\n",
    "nz.append(np.sum(lasso01.coef_ != 0))\n",
    "nz.append(np.sum(lasso02.coef_ != 0))\n",
    "nz.append(np.sum(lasso03.coef_ != 0))\n",
    "print('Number of selected feature for each alpha=[defalt_parameter,0.1,0.01,0.001,0.0001]: ',nz)"
   ]
  },
  {
   "cell_type": "markdown",
   "id": "220b9ebb",
   "metadata": {},
   "source": [
    "Test R2 vs total number of features used for different alpha "
   ]
  },
  {
   "cell_type": "code",
   "execution_count": 11,
   "id": "ff9cf5e4",
   "metadata": {},
   "outputs": [
    {
     "data": {
      "image/png": "[encoded data removed]",
      "text/plain": [
       "<Figure size 432x288 with 1 Axes>"
      ]
     },
     "metadata": {
      "needs_background": "light"
     },
     "output_type": "display_data"
    }
   ],
   "source": [
    "plt.plot(s,nz,'*')\n",
    "plt.show()"
   ]
  },
  {
   "cell_type": "markdown",
   "id": "07bfcf87",
   "metadata": {},
   "source": [
    "According to above graph the most suitable parameter will be for 0.0001 as it is selecting 10 features out of 10 features and gives the best accuracy of 0.4354764053262594"
   ]
  },
  {
   "cell_type": "markdown",
   "id": "e6268ff8",
   "metadata": {},
   "source": [
    "# Lasso method for diabetes.data (tab separated)"
   ]
  },
  {
   "cell_type": "code",
   "execution_count": 14,
   "id": "a964ecbb",
   "metadata": {},
   "outputs": [
    {
     "data": {
      "text/plain": [
       "(442, 11)"
      ]
     },
     "execution_count": 14,
     "metadata": {},
     "output_type": "execute_result"
    }
   ],
   "source": [
    "diabetes=pd.read_csv('diabetes.data',sep='\\t')\n",
    "diabetes.shape"
   ]
  },
  {
   "cell_type": "code",
   "execution_count": 15,
   "id": "8180aaef",
   "metadata": {},
   "outputs": [],
   "source": [
    "Xd=diabetes.values[:,:-1]\n",
    "yd=diabetes.values[:,-1]\n",
    "X_train,X_test,y_train,y_test = train_test_split(Xd,yd,random_state=2610)"
   ]
  },
  {
   "cell_type": "markdown",
   "id": "e304a052",
   "metadata": {},
   "source": [
    "Calculating Train and Test R2 for the Lasso model using default parameters and different values of alpha"
   ]
  },
  {
   "cell_type": "code",
   "execution_count": 16,
   "id": "30ae5c19",
   "metadata": {},
   "outputs": [],
   "source": [
    "lasso1 = Lasso().fit(X_train,y_train)\n",
    "lasso10=Lasso(alpha=0.1,max_iter=100000).fit(X_train,y_train)\n",
    "lasso11=Lasso(alpha=0.01,max_iter=100000).fit(X_train,y_train)\n",
    "lasso12=Lasso(alpha=0.001,max_iter=100000).fit(X_train,y_train)\n",
    "lasso13=Lasso(alpha=0.0001,max_iter=100000).fit(X_train,y_train)"
   ]
  },
  {
   "cell_type": "markdown",
   "id": "33cc6bcd",
   "metadata": {},
   "source": [
    "The default parameter for Lasso is alpha=1.0 and based on this we need to select iterations which is also a parameter of lasso"
   ]
  },
  {
   "cell_type": "code",
   "execution_count": 17,
   "id": "a63186bd",
   "metadata": {},
   "outputs": [],
   "source": [
    "s1=[]\n",
    "s1.append(lasso1.score(X_test,y_test))"
   ]
  },
  {
   "cell_type": "markdown",
   "id": "b832c901",
   "metadata": {},
   "source": [
    "Train R^2 for alpha=0.1"
   ]
  },
  {
   "cell_type": "code",
   "execution_count": 18,
   "id": "1acf8a9f",
   "metadata": {},
   "outputs": [],
   "source": [
    "s1.append(lasso10.score(X_test,y_test))"
   ]
  },
  {
   "cell_type": "markdown",
   "id": "2a26701b",
   "metadata": {},
   "source": [
    "Train R^2 for alpha=0.01"
   ]
  },
  {
   "cell_type": "code",
   "execution_count": 19,
   "id": "b5754bc0",
   "metadata": {},
   "outputs": [],
   "source": [
    "s1.append(lasso11.score(X_test,y_test))"
   ]
  },
  {
   "cell_type": "markdown",
   "id": "8d119f01",
   "metadata": {},
   "source": [
    "Train R^2 for alpha=0.001"
   ]
  },
  {
   "cell_type": "code",
   "execution_count": 20,
   "id": "f78493cb",
   "metadata": {},
   "outputs": [],
   "source": [
    "s1.append(lasso12.score(X_test,y_test))"
   ]
  },
  {
   "cell_type": "markdown",
   "id": "40a4b7e8",
   "metadata": {},
   "source": [
    "Train R^2 for alpha=0.0001"
   ]
  },
  {
   "cell_type": "code",
   "execution_count": 21,
   "id": "923c910a",
   "metadata": {},
   "outputs": [
    {
     "data": {
      "text/plain": [
       "[0.41290721446465406,\n",
       " 0.43413994373110765,\n",
       " 0.4354643080478602,\n",
       " 0.43559404222290565,\n",
       " 0.4356068022574697]"
      ]
     },
     "execution_count": 21,
     "metadata": {},
     "output_type": "execute_result"
    }
   ],
   "source": [
    "s1.append(lasso13.score(X_test,y_test))\n",
    "s1"
   ]
  },
  {
   "cell_type": "markdown",
   "id": "755c4f11",
   "metadata": {},
   "source": [
    "Calculating how many features does this model use for default parameter and which"
   ]
  },
  {
   "cell_type": "code",
   "execution_count": 22,
   "id": "c5c46052",
   "metadata": {},
   "outputs": [
    {
     "name": "stdout",
     "output_type": "stream",
     "text": [
      "Feature selected:  AGE\n",
      "Feature selected:  SEX\n",
      "Feature selected:  BMI\n",
      "Feature selected:  BP\n",
      "Feature selected:  S1\n",
      "Feature selected:  S2\n",
      "Feature selected:  S3\n",
      "Feature selected:  S4\n",
      "Feature selected:  S5\n",
      "Feature selected:  S6\n"
     ]
    }
   ],
   "source": [
    "for i in range(Xd.shape[1]):\n",
    "    if lasso1.coef_[i] != 0:\n",
    "        print(\"Feature selected: \",diabetes.columns[i])"
   ]
  },
  {
   "cell_type": "markdown",
   "id": "8c69efe4",
   "metadata": {},
   "source": [
    "Calculating how many features does this model use for different parameter values"
   ]
  },
  {
   "cell_type": "code",
   "execution_count": 23,
   "id": "b96be7bc",
   "metadata": {},
   "outputs": [
    {
     "name": "stdout",
     "output_type": "stream",
     "text": [
      "Number of selected feature for each alpha=[defalt_parameter,0.1,0.01,0.001,0.0001]:  [10, 10, 10, 10, 10]\n"
     ]
    }
   ],
   "source": [
    "import numpy as np\n",
    "nz1=[]\n",
    "\n",
    "nz1.append(np.sum(lasso1.coef_ != 0))\n",
    "nz1.append(np.sum(lasso10.coef_ != 0))\n",
    "nz1.append(np.sum(lasso11.coef_ != 0))\n",
    "nz1.append(np.sum(lasso12.coef_ != 0))\n",
    "nz1.append(np.sum(lasso13.coef_ != 0))\n",
    "print('Number of selected feature for each alpha=[defalt_parameter,0.1,0.01,0.001,0.0001]: ',nz1)"
   ]
  },
  {
   "cell_type": "markdown",
   "id": "7bfbb984",
   "metadata": {},
   "source": [
    "Test R2 vs total number of features used for different alpha"
   ]
  },
  {
   "cell_type": "code",
   "execution_count": 24,
   "id": "4cbbd930",
   "metadata": {},
   "outputs": [
    {
     "data": {
      "image/png": "[encoded data removed]",
      "text/plain": [
       "<Figure size 432x288 with 1 Axes>"
      ]
     },
     "metadata": {
      "needs_background": "light"
     },
     "output_type": "display_data"
    }
   ],
   "source": [
    "plt.plot(s1,nz1,'r*')\n",
    "plt.show()"
   ]
  },
  {
   "cell_type": "markdown",
   "id": "b1929a78",
   "metadata": {},
   "source": [
    "According to above graph the all suitable parameter but 0.0001 is best as it selecting 10 features out of 10 features and gives the best accuracy of 0.4356068022574697]"
   ]
  },
  {
   "cell_type": "markdown",
   "id": "537059a9",
   "metadata": {},
   "source": [
    "# Preprocess the training and test sets using StandardScaler"
   ]
  },
  {
   "cell_type": "code",
   "execution_count": 25,
   "id": "0f727483",
   "metadata": {},
   "outputs": [],
   "source": [
    "from sklearn.preprocessing import StandardScaler\n",
    "scaler = StandardScaler()"
   ]
  },
  {
   "cell_type": "code",
   "execution_count": 26,
   "id": "3a55ebfe",
   "metadata": {},
   "outputs": [
    {
     "data": {
      "text/plain": [
       "StandardScaler()"
      ]
     },
     "execution_count": 26,
     "metadata": {},
     "output_type": "execute_result"
    }
   ],
   "source": [
    "scaler.fit(X_train)"
   ]
  },
  {
   "cell_type": "code",
   "execution_count": 27,
   "id": "713d6a98",
   "metadata": {},
   "outputs": [],
   "source": [
    "X_train_scaled = scaler.transform(X_train)\n",
    "X_test_scaled = scaler.transform(X_test)"
   ]
  },
  {
   "cell_type": "code",
   "execution_count": 28,
   "id": "4a821f75",
   "metadata": {},
   "outputs": [
    {
     "data": {
      "text/plain": [
       "0.5337864254042757"
      ]
     },
     "execution_count": 28,
     "metadata": {},
     "output_type": "execute_result"
    }
   ],
   "source": [
    "lasso2 = Lasso().fit(X_train_scaled,y_train)\n",
    "lasso2.score(X_train_scaled,y_train)"
   ]
  },
  {
   "cell_type": "code",
   "execution_count": 29,
   "id": "586c45da",
   "metadata": {},
   "outputs": [
    {
     "data": {
      "text/plain": [
       "0.44905822102312876"
      ]
     },
     "execution_count": 29,
     "metadata": {},
     "output_type": "execute_result"
    }
   ],
   "source": [
    "lasso2.score(X_test_scaled,y_test)"
   ]
  },
  {
   "cell_type": "markdown",
   "id": "aee28caf",
   "metadata": {},
   "source": [
    "# Choose the regularization parameter for the Lasso using cross-validation on the training set"
   ]
  },
  {
   "cell_type": "code",
   "execution_count": 30,
   "id": "4fb543cc",
   "metadata": {},
   "outputs": [],
   "source": [
    "param_grid = {'alpha': [0.001, 0.01, 0.1, 1, 10, 100]}"
   ]
  },
  {
   "cell_type": "code",
   "execution_count": 31,
   "id": "d8c20502",
   "metadata": {},
   "outputs": [],
   "source": [
    "from sklearn.model_selection import GridSearchCV\n",
    "grid_search = GridSearchCV(Lasso(), param_grid)"
   ]
  },
  {
   "cell_type": "code",
   "execution_count": 32,
   "id": "2739fef6",
   "metadata": {},
   "outputs": [
    {
     "name": "stderr",
     "output_type": "stream",
     "text": [
      "E:\\app\\New folder\\lib\\site-packages\\sklearn\\linear_model\\_coordinate_descent.py:647: ConvergenceWarning: Objective did not converge. You might want to increase the number of iterations, check the scale of the features or consider increasing regularisation. Duality gap: 5.768e+03, tolerance: 1.587e+02\n",
      "  model = cd_fast.enet_coordinate_descent(\n",
      "E:\\app\\New folder\\lib\\site-packages\\sklearn\\linear_model\\_coordinate_descent.py:647: ConvergenceWarning: Objective did not converge. You might want to increase the number of iterations, check the scale of the features or consider increasing regularisation. Duality gap: 2.314e+04, tolerance: 1.463e+02\n",
      "  model = cd_fast.enet_coordinate_descent(\n",
      "E:\\app\\New folder\\lib\\site-packages\\sklearn\\linear_model\\_coordinate_descent.py:647: ConvergenceWarning: Objective did not converge. You might want to increase the number of iterations, check the scale of the features or consider increasing regularisation. Duality gap: 1.517e+04, tolerance: 1.445e+02\n",
      "  model = cd_fast.enet_coordinate_descent(\n",
      "E:\\app\\New folder\\lib\\site-packages\\sklearn\\linear_model\\_coordinate_descent.py:647: ConvergenceWarning: Objective did not converge. You might want to increase the number of iterations, check the scale of the features or consider increasing regularisation. Duality gap: 1.438e+03, tolerance: 1.537e+02\n",
      "  model = cd_fast.enet_coordinate_descent(\n",
      "E:\\app\\New folder\\lib\\site-packages\\sklearn\\linear_model\\_coordinate_descent.py:647: ConvergenceWarning: Objective did not converge. You might want to increase the number of iterations, check the scale of the features or consider increasing regularisation. Duality gap: 3.752e+02, tolerance: 1.463e+02\n",
      "  model = cd_fast.enet_coordinate_descent(\n",
      "E:\\app\\New folder\\lib\\site-packages\\sklearn\\linear_model\\_coordinate_descent.py:647: ConvergenceWarning: Objective did not converge. You might want to increase the number of iterations, check the scale of the features or consider increasing regularisation. Duality gap: 2.553e+02, tolerance: 1.445e+02\n",
      "  model = cd_fast.enet_coordinate_descent(\n"
     ]
    },
    {
     "data": {
      "text/plain": [
       "GridSearchCV(estimator=Lasso(),\n",
       "             param_grid={'alpha': [0.001, 0.01, 0.1, 1, 10, 100]})"
      ]
     },
     "execution_count": 32,
     "metadata": {},
     "output_type": "execute_result"
    }
   ],
   "source": [
    "grid_search.fit(X_train,y_train)"
   ]
  },
  {
   "cell_type": "code",
   "execution_count": 33,
   "id": "9b10fb7d",
   "metadata": {},
   "outputs": [
    {
     "data": {
      "text/plain": [
       "0.536818362103612"
      ]
     },
     "execution_count": 33,
     "metadata": {},
     "output_type": "execute_result"
    }
   ],
   "source": [
    "grid_search.score(X_train,y_train)"
   ]
  },
  {
   "cell_type": "code",
   "execution_count": 34,
   "id": "fdb93c45",
   "metadata": {},
   "outputs": [
    {
     "data": {
      "text/plain": [
       "0.43413994373110765"
      ]
     },
     "execution_count": 34,
     "metadata": {},
     "output_type": "execute_result"
    }
   ],
   "source": [
    "grid_search.score(X_test,y_test)"
   ]
  },
  {
   "cell_type": "code",
   "execution_count": 35,
   "id": "24867c0f",
   "metadata": {},
   "outputs": [
    {
     "name": "stdout",
     "output_type": "stream",
     "text": [
      "{'alpha': 0.1}\n"
     ]
    }
   ],
   "source": [
    "print(grid_search.best_params_)"
   ]
  },
  {
   "cell_type": "markdown",
   "id": "3e3b0ad2",
   "metadata": {},
   "source": [
    "# Inductive Conformal Predictor"
   ]
  },
  {
   "cell_type": "markdown",
   "id": "9b3b6e49",
   "metadata": {},
   "source": [
    "Splitting original training data into new training and calibration data"
   ]
  },
  {
   "cell_type": "code",
   "execution_count": 36,
   "id": "93b2ac36",
   "metadata": {},
   "outputs": [],
   "source": [
    "new_xtrain,xcal,new_ytrain,ycal = train_test_split(X_train,y_train,test_size=0.299,random_state=2610)"
   ]
  },
  {
   "cell_type": "markdown",
   "id": "a0da3ccd",
   "metadata": {},
   "source": [
    "Preprossing data using StandardScaler"
   ]
  },
  {
   "cell_type": "code",
   "execution_count": 37,
   "id": "a8f918e8",
   "metadata": {},
   "outputs": [
    {
     "data": {
      "text/plain": [
       "StandardScaler()"
      ]
     },
     "execution_count": 37,
     "metadata": {},
     "output_type": "execute_result"
    }
   ],
   "source": [
    "scaler1 = StandardScaler()\n",
    "scaler1.fit(new_xtrain)"
   ]
  },
  {
   "cell_type": "code",
   "execution_count": 38,
   "id": "d9651085",
   "metadata": {},
   "outputs": [],
   "source": [
    "xcal_scaled = scaler1.transform(xcal)\n",
    "newxtrain_scaled = scaler1.transform(new_xtrain)\n",
    "test_scaled = scaler1.transform(X_test)"
   ]
  },
  {
   "cell_type": "markdown",
   "id": "d30c205d",
   "metadata": {},
   "source": [
    "Finding best parameter for Lasso and predicting preprossed calibration data"
   ]
  },
  {
   "cell_type": "code",
   "execution_count": 39,
   "id": "092a7320",
   "metadata": {},
   "outputs": [
    {
     "name": "stderr",
     "output_type": "stream",
     "text": [
      "E:\\app\\New folder\\lib\\site-packages\\sklearn\\linear_model\\_coordinate_descent.py:647: ConvergenceWarning: Objective did not converge. You might want to increase the number of iterations, check the scale of the features or consider increasing regularisation. Duality gap: 1.073e+03, tolerance: 1.027e+02\n",
      "  model = cd_fast.enet_coordinate_descent(\n",
      "E:\\app\\New folder\\lib\\site-packages\\sklearn\\linear_model\\_coordinate_descent.py:647: ConvergenceWarning: Objective did not converge. You might want to increase the number of iterations, check the scale of the features or consider increasing regularisation. Duality gap: 1.941e+02, tolerance: 9.702e+01\n",
      "  model = cd_fast.enet_coordinate_descent(\n"
     ]
    }
   ],
   "source": [
    "grid_search1 = GridSearchCV(Lasso(), param_grid)\n",
    "grid_search1.fit(newxtrain_scaled,new_ytrain)\n",
    "\n",
    "lasso =Lasso(alpha=grid_search1.best_params_[\"alpha\"])\n",
    "lasso.fit(newxtrain_scaled,new_ytrain)\n",
    "\n",
    "y_pred_cal=lasso.predict(xcal_scaled)"
   ]
  },
  {
   "cell_type": "markdown",
   "id": "50959dee",
   "metadata": {},
   "source": [
    "Using non-conformity measure α=|y-y^|"
   ]
  },
  {
   "cell_type": "code",
   "execution_count": 40,
   "id": "b8ae423c",
   "metadata": {},
   "outputs": [],
   "source": [
    "new=[]\n",
    "for i in range(len(ycal)):\n",
    "    x=abs(ycal[i]-y_pred_cal[i])\n",
    "    new.append(x)\n",
    "new.sort()"
   ]
  },
  {
   "cell_type": "markdown",
   "id": "8a36e0c1",
   "metadata": {},
   "source": [
    "k values for significance levels 5% & 20% "
   ]
  },
  {
   "cell_type": "code",
   "execution_count": 41,
   "id": "c50d481e",
   "metadata": {},
   "outputs": [
    {
     "name": "stdout",
     "output_type": "stream",
     "text": [
      "95.0 80.0\n"
     ]
    }
   ],
   "source": [
    "e=0.05\n",
    "k=(1-e)*(len(xcal)+1)\n",
    "e1=0.2\n",
    "k1=(1-e1)*(len(xcal)+1)\n",
    "print(k,k1)"
   ]
  },
  {
   "cell_type": "markdown",
   "id": "54f73ef5",
   "metadata": {},
   "source": [
    "Length of the half of prediction intervals for the test samples"
   ]
  },
  {
   "cell_type": "code",
   "execution_count": 42,
   "id": "c7848144",
   "metadata": {},
   "outputs": [
    {
     "name": "stdout",
     "output_type": "stream",
     "text": [
      "100.67402150143079 72.76203709441307\n"
     ]
    }
   ],
   "source": [
    "c1=new[int(k-1)]\n",
    "c2=new[int(k1-1)]\n",
    "print(c1,c2)"
   ]
  },
  {
   "cell_type": "markdown",
   "id": "0f6f1186",
   "metadata": {},
   "source": [
    "Predicting for scaled test"
   ]
  },
  {
   "cell_type": "code",
   "execution_count": 43,
   "id": "eae5aeb9",
   "metadata": {},
   "outputs": [],
   "source": [
    "yt_pred=lasso.predict(test_scaled)"
   ]
  },
  {
   "cell_type": "markdown",
   "id": "9f44723f",
   "metadata": {},
   "source": [
    "Calculating prediction intervals for each predicted scaled test "
   ]
  },
  {
   "cell_type": "code",
   "execution_count": 44,
   "id": "b8e094d7",
   "metadata": {},
   "outputs": [],
   "source": [
    "y_test_interval=[]\n",
    "y_test_interval1=[]\n",
    "\n",
    "for i in range(len(yt_pred)):\n",
    "    y_test_interval.append([yt_pred[i]-c1,yt_pred[i]+c1])\n",
    "    y_test_interval1.append([yt_pred[i]-c2,yt_pred[i]+c2])"
   ]
  },
  {
   "cell_type": "markdown",
   "id": "c0c8578e",
   "metadata": {},
   "source": [
    "Error rate for y predicted labels for significance level 5%"
   ]
  },
  {
   "cell_type": "code",
   "execution_count": 45,
   "id": "3c1f021b",
   "metadata": {},
   "outputs": [
    {
     "name": "stdout",
     "output_type": "stream",
     "text": [
      "0.09909909909909909\n"
     ]
    }
   ],
   "source": [
    "acc=0\n",
    "for j in range(len(y_test_interval)):\n",
    "    if y_test[j]<=y_test_interval[j][1] and y_test[j]>=y_test_interval[j][0]:\n",
    "            acc=acc+1\n",
    "accuracy=acc/len(y_test)\n",
    "error_c1=1-accuracy\n",
    "print(error_c1)"
   ]
  },
  {
   "cell_type": "markdown",
   "id": "ed0fa521",
   "metadata": {},
   "source": [
    "Error rate for y predicted labels for significance level 20%"
   ]
  },
  {
   "cell_type": "code",
   "execution_count": 46,
   "id": "fb30d89f",
   "metadata": {},
   "outputs": [
    {
     "name": "stdout",
     "output_type": "stream",
     "text": [
      "0.23423423423423428\n"
     ]
    }
   ],
   "source": [
    "acc1=0\n",
    "for j in range(len(y_test_interval1)):\n",
    "    if y_test[j]<=y_test_interval1[j][1] and y_test[j]>=y_test_interval1[j][0]:\n",
    "            acc1=acc1+1\n",
    "\n",
    "accuracy2=acc1/len(y_test)\n",
    "error_c2=1-accuracy2\n",
    "print(error_c2)"
   ]
  },
  {
   "cell_type": "code",
   "execution_count": null,
   "id": "bfdb7a0d",
   "metadata": {},
   "outputs": [],
   "source": []
  }
 ],
 "metadata": {
  "kernelspec": {
   "display_name": "Python 3 (ipykernel)",
   "language": "python",
   "name": "python3"
  },
  "language_info": {
   "codemirror_mode": {
    "name": "ipython",
    "version": 3
   },
   "file_extension": ".py",
   "mimetype": "text/x-python",
   "name": "python",
   "nbconvert_exporter": "python",
   "pygments_lexer": "ipython3",
   "version": "3.9.12"
  }
 },
 "nbformat": 4,
 "nbformat_minor": 5
}
